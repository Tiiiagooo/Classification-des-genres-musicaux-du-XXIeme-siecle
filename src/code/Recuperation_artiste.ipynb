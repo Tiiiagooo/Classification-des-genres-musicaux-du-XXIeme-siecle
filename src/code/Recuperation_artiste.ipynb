{
 "cells": [
  {
   "cell_type": "markdown",
   "metadata": {},
   "source": [
    "# Récupération d'un corpus d'artiste\n",
    "\n",
    "L'objectif de ce notebook"
   ]
  },
  {
   "cell_type": "code",
   "execution_count": 5,
   "metadata": {},
   "outputs": [],
   "source": [
    "from function.utils import os, tqdm, json\n",
    "\n",
    "PATH_JSON = \"../data/json_file/\"\n",
    "\n",
    "if not os.path.exists(PATH_JSON):\n",
    "    os.makedirs(PATH_JSON)"
   ]
  },
  {
   "cell_type": "code",
   "execution_count": null,
   "metadata": {},
   "outputs": [
    {
     "name": "stderr",
     "output_type": "stream",
     "text": [
      "100%|██████████| 73/73 [00:20<00:00,  3.55it/s]\n"
     ]
    }
   ],
   "source": [
    "from function.scrapping import get_url, scrapping_artiste\n",
    "\n",
    "if os.path.exists(PATH_JSON+\"dictionnaire_artiste.json\"):\n",
    "    stop = True\n",
    "\n",
    "if not stop:\n",
    "    headers = {\"User-Agent\": \"Mozilla/5.0\"}\n",
    "\n",
    "    URL_BASE = \"https://hit-parade.net/\"\n",
    "\n",
    "    liste_pages = list()\n",
    "    liste_artiste = list()\n",
    "\n",
    "    for years in tqdm.tqdm(range(1950, 2023, 1)):\n",
    "        liste_pages.extend(get_url(URL_BASE, str(years), headers))\n",
    "\n",
    "    for URL in tqdm.tqdm(liste_pages):\n",
    "        liste_artiste.extend(scrapping_artiste(URL, headers))\n",
    "    \n",
    "    artiste = set(liste_artiste)\n",
    "\n",
    "    with open(PATH_JSON+\"dictionnaire_artiste.json\", \"w\", encoding=\"UTF-8\") as json_file:\n",
    "        json.dump(list(artiste), json_file, indent=4)"
   ]
  }
 ],
 "metadata": {
  "kernelspec": {
   "display_name": "env_proj_classification_music",
   "language": "python",
   "name": "python3"
  },
  "language_info": {
   "codemirror_mode": {
    "name": "ipython",
    "version": 3
   },
   "file_extension": ".py",
   "mimetype": "text/x-python",
   "name": "python",
   "nbconvert_exporter": "python",
   "pygments_lexer": "ipython3",
   "version": "3.11.9"
  }
 },
 "nbformat": 4,
 "nbformat_minor": 2
}
