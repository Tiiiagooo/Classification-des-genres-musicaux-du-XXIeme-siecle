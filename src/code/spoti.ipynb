{
 "cells": [
  {
   "cell_type": "markdown",
   "metadata": {},
   "source": [
    "# Récupération jeu de données\n",
    "\n",
    "L'objectif de ce notebook"
   ]
  },
  {
   "cell_type": "markdown",
   "metadata": {
    "id": "ZWGBy1AFSqfH"
   },
   "source": [
    "Pour la documentation api Spotify\n",
    "\n",
    "\n",
    "\n",
    "*   https://spotifypy.readthedocs.io/en/latest/api.html\n",
    "*   https://github.com/spotipy-dev/spotipy/blob/master/examples/search.py\n",
    "*   https://pypi.org/project/spotipy/\n",
    "\n",
    "\n",
    "\n",
    "\n",
    "\n",
    "\n"
   ]
  },
  {
   "cell_type": "markdown",
   "metadata": {},
   "source": [
    "## Installation de l'api SPOTIFY"
   ]
  },
  {
   "cell_type": "code",
   "execution_count": 1,
   "metadata": {
    "colab": {
     "base_uri": "https://localhost:8080/"
    },
    "id": "Rs7yNuYMO2-9",
    "outputId": "8394ecdd-8a82-404b-956e-2634571b8c25",
    "scrolled": true
   },
   "outputs": [],
   "source": [
    " # Installation des packages pour Spotify\n",
    "#pip install spotipy "
   ]
  },
  {
   "cell_type": "markdown",
   "metadata": {},
   "source": [
    "## Import des librairies"
   ]
  },
  {
   "cell_type": "code",
   "execution_count": 2,
   "metadata": {},
   "outputs": [],
   "source": [
    "from function.utils import tqdm, glob, json\n",
    "\n",
    "import spotipy\n",
    "from spotipy.oauth2 import SpotifyClientCredentials"
   ]
  },
  {
   "cell_type": "markdown",
   "metadata": {},
   "source": [
    "## Récupération des tokens\n",
    "\n",
    "/!\\ Attention /!\\  \n",
    "Pour pouvoir récuperer les access tokens de spotify il est impératif d'avoir un compte free ou premium.  \n",
    "De plus avoir créer son APP.  \n",
    "Par la suite, vous obtiendrez les client_id et client_id_secret permettant l'accès à l'API et le bon fonctionnement du code."
   ]
  },
  {
   "cell_type": "code",
   "execution_count": 3,
   "metadata": {},
   "outputs": [],
   "source": [
    "from function.function import get_token\n",
    "\n",
    "PATH_TOKEN = \"../data/token/*\"\n",
    "PATH_JSON = \"../data/json_file/\"\n",
    "PATH_TXT = \"../data/txt/\"\n",
    "\n",
    "liste_txt_file = glob.glob(PATH_TOKEN)\n",
    "\n",
    "GENIUS_ACCESS_TOKEN = None\n",
    "SPOTIFY_client_id = None\n",
    "SPOTIFY_client_secret = None\n",
    "\n",
    "GENIUS_ACCESS_TOKEN, SPOTIFY_client_id, SPOTIFY_client_secret = get_token(liste_txt_file)\n"
   ]
  },
  {
   "cell_type": "code",
   "execution_count": 4,
   "metadata": {},
   "outputs": [],
   "source": [
    "from function.dictionnary import get_dictionnary\n",
    "\n",
    "dictionnaire_song = get_dictionnary(PATH_JSON, \"dictionnaire_song.json\")\n",
    "liste_artiste = get_dictionnary(PATH_JSON, \"dictionnaire_artiste.json\")\n",
    "data_artiste_titre = get_dictionnary(PATH_JSON, \"data_artiste_titre.json\")"
   ]
  },
  {
   "cell_type": "code",
   "execution_count": 5,
   "metadata": {
    "colab": {
     "base_uri": "https://localhost:8080/"
    },
    "id": "UPiV70pHPAov",
    "outputId": "153b68e9-be5f-4b25-ee18-b1c250062c0f"
   },
   "outputs": [],
   "source": [
    "#identifiant spotify\n",
    "sp = spotipy.Spotify(auth_manager=SpotifyClientCredentials(client_id=SPOTIFY_client_id,\n",
    "                                                           client_secret=SPOTIFY_client_secret))\n",
    "\n",
    "data_artiste_titre = list(data_artiste_titre)\n",
    "\n",
    "if len(data_artiste_titre) == 0:\n",
    "    for nom_artiste in tqdm.tqdm(liste_artiste):\n",
    "            results = sp.search(q=nom_artiste, limit=50) # requete de la recherche\n",
    "            if 'tracks' in results and 'items' in results['tracks']:\n",
    "                Info_titre = [(idx, nom_artiste, data['name']) for idx, data in enumerate(results['tracks']['items']) ]\n",
    "            data_artiste_titre.extend(Info_titre)\n",
    "    with open(PATH_JSON+\"data_artiste_titre.txt\", \"w\") as json_file:\n",
    "        json.dump(data_artiste_titre, json_file, indent=4)\n",
    "    "
   ]
  },
  {
   "cell_type": "code",
   "execution_count": null,
   "metadata": {},
   "outputs": [
    {
     "name": "stderr",
     "output_type": "stream",
     "text": [
      "  0%|          | 0/171074 [00:00<?, ?it/s]\n"
     ]
    },
    {
     "ename": "NameError",
     "evalue": "name 'headers' is not defined",
     "output_type": "error",
     "traceback": [
      "\u001b[1;31m---------------------------------------------------------------------------\u001b[0m",
      "\u001b[1;31mNameError\u001b[0m                                 Traceback (most recent call last)",
      "Cell \u001b[1;32mIn[6], line 8\u001b[0m\n\u001b[0;32m      6\u001b[0m \u001b[38;5;28;01mif\u001b[39;00m artist_name \u001b[38;5;129;01min\u001b[39;00m dictionnaire_song \u001b[38;5;129;01mand\u001b[39;00m song_title \u001b[38;5;129;01min\u001b[39;00m dictionnaire_song[artist_name]:\n\u001b[0;32m      7\u001b[0m     \u001b[38;5;28;01mif\u001b[39;00m dictionnaire_song[artist_name][song_title][\u001b[38;5;124m\"\u001b[39m\u001b[38;5;124mlyrics\u001b[39m\u001b[38;5;124m\"\u001b[39m] \u001b[38;5;241m!=\u001b[39m \u001b[38;5;28;01mNone\u001b[39;00m:\n\u001b[1;32m----> 8\u001b[0m         dictionnaire_song \u001b[38;5;241m=\u001b[39m update_dictionnary(song_title, artist_name, GENIUS_ACCESS_TOKEN, dictionnaire_song)\n\u001b[0;32m      9\u001b[0m     \u001b[38;5;28;01mcontinue\u001b[39;00m\n\u001b[0;32m     10\u001b[0m \u001b[38;5;28;01melse\u001b[39;00m:\n",
      "File \u001b[1;32mc:\\Users\\Loup\\Desktop\\dossier pro\\Projet\\Classification des genres musicaux\\src\\code\\function\\dictionnary.py:18\u001b[0m, in \u001b[0;36mupdate_dictionnary\u001b[1;34m(song_title, artist_name, GENIUS_ACCESS_TOKEN, dictionnaire_song)\u001b[0m\n\u001b[0;32m     16\u001b[0m lyrics_url \u001b[38;5;241m=\u001b[39m get_lyrics_from_genius(song_title, artist_name, GENIUS_ACCESS_TOKEN)\n\u001b[0;32m     17\u001b[0m \u001b[38;5;28;01mif\u001b[39;00m lyrics_url:\n\u001b[1;32m---> 18\u001b[0m     list_lyrics \u001b[38;5;241m=\u001b[39m scrapping_find_lyrics(lyrics_url, headers)\n\u001b[0;32m     19\u001b[0m     lyrics_of_song \u001b[38;5;241m=\u001b[39m \u001b[38;5;124m\"\u001b[39m\u001b[38;5;130;01m\\n\u001b[39;00m\u001b[38;5;124m\"\u001b[39m\u001b[38;5;241m.\u001b[39mjoin(list_lyrics)\n\u001b[0;32m     20\u001b[0m     dictionnaire_song\u001b[38;5;241m.\u001b[39msetdefault(artist_name, {})\u001b[38;5;241m.\u001b[39msetdefault(song_title, {})[\u001b[38;5;124m\"\u001b[39m\u001b[38;5;124mlyrics\u001b[39m\u001b[38;5;124m\"\u001b[39m] \u001b[38;5;241m=\u001b[39m lyrics_of_song\n",
      "\u001b[1;31mNameError\u001b[0m: name 'headers' is not defined"
     ]
    }
   ],
   "source": [
    "from function.dictionnary import update_dictionnary\n",
    "\n",
    "headers = {\"User-Agent\": \"Mozilla/5.0\"}\n",
    "\n",
    "for idx, artist_name, song_title in tqdm.tqdm(data_artiste_titre):\n",
    "    if artist_name in dictionnaire_song and song_title in dictionnaire_song[artist_name]:\n",
    "        if dictionnaire_song[artist_name][song_title][\"lyrics\"] != None:\n",
    "            dictionnaire_song = update_dictionnary(song_title, artist_name, GENIUS_ACCESS_TOKEN, dictionnaire_song, headers)\n",
    "        continue\n",
    "    else:\n",
    "        dictionnaire_song = update_dictionnary(song_title, artist_name, GENIUS_ACCESS_TOKEN, dictionnaire_song, headers)"
   ]
  },
  {
   "cell_type": "code",
   "execution_count": null,
   "metadata": {},
   "outputs": [],
   "source": [
    "with open(PATH_JSON+\"dictionnaire_song.json\", \"w\") as json_file:\n",
    "    json.dump(dictionnaire_song, json_file, indent=4)"
   ]
  }
 ],
 "metadata": {
  "colab": {
   "provenance": []
  },
  "kernelspec": {
   "display_name": "env_proj_classification_music",
   "language": "python",
   "name": "python3"
  },
  "language_info": {
   "codemirror_mode": {
    "name": "ipython",
    "version": 3
   },
   "file_extension": ".py",
   "mimetype": "text/x-python",
   "name": "python",
   "nbconvert_exporter": "python",
   "pygments_lexer": "ipython3",
   "version": "3.11.9"
  },
  "toc": {
   "base_numbering": 1,
   "nav_menu": {},
   "number_sections": true,
   "sideBar": true,
   "skip_h1_title": false,
   "title_cell": "Table of Contents",
   "title_sidebar": "Contents",
   "toc_cell": false,
   "toc_position": {
    "height": "calc(100% - 180px)",
    "left": "10px",
    "top": "150px",
    "width": "213.167px"
   },
   "toc_section_display": true,
   "toc_window_display": true
  }
 },
 "nbformat": 4,
 "nbformat_minor": 4
}
