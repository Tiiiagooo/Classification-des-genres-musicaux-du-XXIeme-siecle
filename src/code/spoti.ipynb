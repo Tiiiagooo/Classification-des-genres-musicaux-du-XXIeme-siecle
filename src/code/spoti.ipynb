{
 "cells": [
  {
   "cell_type": "markdown",
   "metadata": {},
   "source": [
    "# Récupération jeu de données"
   ]
  },
  {
   "cell_type": "markdown",
   "metadata": {
    "id": "ZWGBy1AFSqfH"
   },
   "source": [
    "Pour la documentation api Spotify\n",
    "\n",
    "\n",
    "\n",
    "*   https://spotifypy.readthedocs.io/en/latest/api.html\n",
    "*   https://github.com/spotipy-dev/spotipy/blob/master/examples/search.py\n",
    "*   https://pypi.org/project/spotipy/\n",
    "\n",
    "\n",
    "\n",
    "\n",
    "\n",
    "\n"
   ]
  },
  {
   "cell_type": "markdown",
   "metadata": {},
   "source": [
    "## Installation de l'api SPOTIFY"
   ]
  },
  {
   "cell_type": "code",
   "execution_count": 1,
   "metadata": {
    "colab": {
     "base_uri": "https://localhost:8080/"
    },
    "id": "Rs7yNuYMO2-9",
    "outputId": "8394ecdd-8a82-404b-956e-2634571b8c25",
    "scrolled": true
   },
   "outputs": [],
   "source": [
    " # Installation des packages pour Spotify\n",
    "#pip install spotipy "
   ]
  },
  {
   "cell_type": "markdown",
   "metadata": {},
   "source": [
    "## Import des librairies"
   ]
  },
  {
   "cell_type": "code",
   "execution_count": 2,
   "metadata": {},
   "outputs": [],
   "source": [
    "import tqdm\n",
    "import glob\n",
    "\n",
    "import spotipy\n",
    "from spotipy.oauth2 import SpotifyClientCredentials"
   ]
  },
  {
   "cell_type": "markdown",
   "metadata": {},
   "source": [
    "## Récupération des tokens\n",
    "\n",
    "/!\\ Attention /!\\ pour pouvoir récuperer les access tokens de spotify il est impératif d'avoir un compte free ou premium et de plus avoir créer sont APP.  \n",
    "Par la suite, vous obtiendrez les client_id et client_id_secret permettant l'accès à l'API et le bon fonctionnement du code."
   ]
  },
  {
   "cell_type": "code",
   "execution_count": 3,
   "metadata": {},
   "outputs": [],
   "source": [
    "from function.function import get_token\n",
    "\n",
    "chemin = \"../data/token/*\"\n",
    "liste_txt_file = glob.glob(chemin)\n",
    "\n",
    "GENIUS_ACCESS_TOKEN = None\n",
    "SPOTIFY_client_id = None\n",
    "SPOTIFY_client_secret = None\n",
    "\n",
    "GENIUS_ACCESS_TOKEN, SPOTIFY_client_id, SPOTIFY_client_secret = get_token(liste_txt_file)\n"
   ]
  },
  {
   "cell_type": "code",
   "execution_count": 9,
   "metadata": {
    "colab": {
     "base_uri": "https://localhost:8080/"
    },
    "id": "UPiV70pHPAov",
    "outputId": "153b68e9-be5f-4b25-ee18-b1c250062c0f"
   },
   "outputs": [],
   "source": [
    "#identifiant spotify\n",
    "sp = spotipy.Spotify(auth_manager=SpotifyClientCredentials(client_id=SPOTIFY_client_id,\n",
    "                                                           client_secret=SPOTIFY_client_secret))\n",
    "\n",
    "Liste_artiste_titre = []\n",
    "nom_artiste = 'drake'\n",
    "results = sp.search(q=nom_artiste, limit=20) # requete de la recherche\n",
    "if 'tracks' in results and 'items' in results['tracks']:\n",
    "    Liste_artiste_titre = [(idx, nom_artiste, data['name']) for idx, data in enumerate(results['tracks']['items'])]"
   ]
  },
  {
   "cell_type": "code",
   "execution_count": 11,
   "metadata": {},
   "outputs": [
    {
     "name": "stderr",
     "output_type": "stream",
     "text": [
      "  0%|          | 0/20 [00:07<?, ?it/s]"
     ]
    },
    {
     "name": "stdout",
     "output_type": "stream",
     "text": [
      "drake, God's Plan: https://genius.com/Drake-gods-plan-lyrics\n"
     ]
    },
    {
     "name": "stderr",
     "output_type": "stream",
     "text": [
      "\n"
     ]
    },
    {
     "ename": "ZeroDivisionError",
     "evalue": "division by zero",
     "output_type": "error",
     "traceback": [
      "\u001b[1;31m---------------------------------------------------------------------------\u001b[0m",
      "\u001b[1;31mZeroDivisionError\u001b[0m                         Traceback (most recent call last)",
      "Cell \u001b[1;32mIn[11], line 9\u001b[0m\n\u001b[0;32m      7\u001b[0m \u001b[38;5;28;01melse\u001b[39;00m:\n\u001b[0;32m      8\u001b[0m     \u001b[38;5;28mprint\u001b[39m(\u001b[38;5;124m\"\u001b[39m\u001b[38;5;124mLyrics not found on Genius.\u001b[39m\u001b[38;5;124m\"\u001b[39m)\n\u001b[1;32m----> 9\u001b[0m \u001b[38;5;241m1\u001b[39m\u001b[38;5;241m/\u001b[39m\u001b[38;5;241m0\u001b[39m\n",
      "\u001b[1;31mZeroDivisionError\u001b[0m: division by zero"
     ]
    }
   ],
   "source": [
    "from function.function import get_lyrics_from_genius\n",
    "\n",
    "for idx, artist_name, song_title in tqdm.tqdm(Liste_artiste_titre):\n",
    "    lyrics_url = get_lyrics_from_genius(song_title, artist_name, GENIUS_ACCESS_TOKEN)\n",
    "    if lyrics_url:\n",
    "        print(f\"{artist_name}, {song_title}: {lyrics_url}\")\n",
    "    else:\n",
    "        print(\"Lyrics not found on Genius.\")\n",
    "    1/0"
   ]
  },
  {
   "cell_type": "code",
   "execution_count": null,
   "metadata": {},
   "outputs": [],
   "source": []
  },
  {
   "cell_type": "code",
   "execution_count": null,
   "metadata": {},
   "outputs": [],
   "source": []
  }
 ],
 "metadata": {
  "colab": {
   "provenance": []
  },
  "kernelspec": {
   "display_name": "env_proj_classification_music",
   "language": "python",
   "name": "python3"
  },
  "language_info": {
   "codemirror_mode": {
    "name": "ipython",
    "version": 3
   },
   "file_extension": ".py",
   "mimetype": "text/x-python",
   "name": "python",
   "nbconvert_exporter": "python",
   "pygments_lexer": "ipython3",
   "version": "3.11.9"
  },
  "toc": {
   "base_numbering": 1,
   "nav_menu": {},
   "number_sections": true,
   "sideBar": true,
   "skip_h1_title": false,
   "title_cell": "Table of Contents",
   "title_sidebar": "Contents",
   "toc_cell": false,
   "toc_position": {
    "height": "calc(100% - 180px)",
    "left": "10px",
    "top": "150px",
    "width": "213.167px"
   },
   "toc_section_display": true,
   "toc_window_display": true
  }
 },
 "nbformat": 4,
 "nbformat_minor": 4
}
