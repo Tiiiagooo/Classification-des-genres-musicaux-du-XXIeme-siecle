{
 "cells": [
  {
   "cell_type": "markdown",
   "metadata": {},
   "source": [
    "# Récupération jeu de données\n",
    "\n",
    "L'objectif de ce notebook"
   ]
  },
  {
   "cell_type": "markdown",
   "metadata": {
    "id": "ZWGBy1AFSqfH"
   },
   "source": [
    "Pour la documentation api Spotify\n",
    "\n",
    "\n",
    "\n",
    "*   https://spotifypy.readthedocs.io/en/latest/api.html\n",
    "*   https://github.com/spotipy-dev/spotipy/blob/master/examples/search.py\n",
    "*   https://pypi.org/project/spotipy/\n",
    "\n",
    "\n",
    "\n",
    "\n",
    "\n",
    "\n"
   ]
  },
  {
   "cell_type": "markdown",
   "metadata": {},
   "source": [
    "## Installation de l'api SPOTIFY"
   ]
  },
  {
   "cell_type": "code",
   "execution_count": 1,
   "metadata": {
    "colab": {
     "base_uri": "https://localhost:8080/"
    },
    "id": "Rs7yNuYMO2-9",
    "outputId": "8394ecdd-8a82-404b-956e-2634571b8c25",
    "scrolled": true
   },
   "outputs": [],
   "source": [
    " # Installation des packages pour Spotify\n",
    "#pip install spotipy "
   ]
  },
  {
   "cell_type": "markdown",
   "metadata": {},
   "source": [
    "## Import des librairies"
   ]
  },
  {
   "cell_type": "code",
   "execution_count": 2,
   "metadata": {},
   "outputs": [],
   "source": [
    "from function.utils import tqdm, glob, json, os\n",
    "from function.utils import requests, BeautifulSoup #TODO : ligne a supprimer.\n",
    "\n",
    "import spotipy\n",
    "from spotipy.oauth2 import SpotifyClientCredentials"
   ]
  },
  {
   "cell_type": "markdown",
   "metadata": {},
   "source": [
    "## Récupération des tokens\n",
    "\n",
    "/!\\ Attention /!\\  \n",
    "Pour pouvoir récuperer les access tokens de spotify il est impératif d'avoir un compte free ou premium.  \n",
    "De plus avoir créer son APP.  \n",
    "Par la suite, vous obtiendrez les client_id et client_id_secret permettant l'accès à l'API et le bon fonctionnement du code."
   ]
  },
  {
   "cell_type": "code",
   "execution_count": 3,
   "metadata": {},
   "outputs": [],
   "source": [
    "from function.function import get_token\n",
    "\n",
    "PATH_TOKEN = \"../data/token/*\"\n",
    "PATH_JSON = \"../data/json_file/\"\n",
    "PATH_TXT = \"../data/txt/\"\n",
    "\n",
    "liste_txt_file = glob.glob(PATH_TOKEN)\n",
    "\n",
    "GENIUS_ACCESS_TOKEN = None\n",
    "SPOTIFY_client_id = None\n",
    "SPOTIFY_client_secret = None\n",
    "\n",
    "GENIUS_ACCESS_TOKEN, SPOTIFY_client_id, SPOTIFY_client_secret = get_token(liste_txt_file)\n"
   ]
  },
  {
   "cell_type": "code",
   "execution_count": 4,
   "metadata": {},
   "outputs": [],
   "source": [
    "from function.dictionnary import get_dictionnary\n",
    "\n",
    "dictionnaire_song = get_dictionnary(PATH_JSON, \"dictionnaire_song2.json\")\n",
    "liste_artiste = get_dictionnary(PATH_JSON, \"dictionnaire_artiste.json\")\n",
    "data_artiste_titre = get_dictionnary(PATH_JSON, \"data_artiste_titre.json\")"
   ]
  },
  {
   "cell_type": "code",
   "execution_count": 5,
   "metadata": {
    "colab": {
     "base_uri": "https://localhost:8080/"
    },
    "id": "UPiV70pHPAov",
    "outputId": "153b68e9-be5f-4b25-ee18-b1c250062c0f"
   },
   "outputs": [],
   "source": [
    "#identifiant spotify\n",
    "sp = spotipy.Spotify(auth_manager=SpotifyClientCredentials(client_id=SPOTIFY_client_id,\n",
    "                                                           client_secret=SPOTIFY_client_secret))\n",
    "\n",
    "data_artiste_titre = list(data_artiste_titre)\n",
    "\n",
    "if len(data_artiste_titre) == 0:\n",
    "    for nom_artiste in tqdm.tqdm(liste_artiste):\n",
    "            results = sp.search(q=nom_artiste, limit=50) # requete de la recherche\n",
    "            if 'tracks' in results and 'items' in results['tracks']:\n",
    "                Info_titre = [(idx, nom_artiste, data['name']) for idx, data in enumerate(results['tracks']['items']) ]\n",
    "            data_artiste_titre.extend(Info_titre)\n",
    "    with open(PATH_JSON+\"data_artiste_titre.txt\", \"w\") as json_file:\n",
    "        json.dump(data_artiste_titre, json_file, indent=4)\n",
    "    "
   ]
  },
  {
   "cell_type": "code",
   "execution_count": 6,
   "metadata": {},
   "outputs": [],
   "source": [
    "# from function.function import get_lyrics_from_genius\n",
    "\n",
    "# song_title = \"She Will\"\n",
    "# #song_title = \"Rich Baby Daddy (feat. Sexyy Red & SZA)\"\n",
    "\n",
    "# artist_name = \"drake\"\n",
    "\n",
    "# test, type_artiste = get_lyrics_from_genius(song_title, artist_name, GENIUS_ACCESS_TOKEN)\n",
    "\n",
    "# print(type_artiste, test)"
   ]
  },
  {
   "cell_type": "code",
   "execution_count": null,
   "metadata": {},
   "outputs": [
    {
     "name": "stderr",
     "output_type": "stream",
     "text": [
      "  1%|▏         | 2444/171074 [4:01:43<44363:06:37, 947.09s/it]"
     ]
    },
    {
     "name": "stdout",
     "output_type": "stream",
     "text": [
      "Erreur pendant la requête Genius : HTTPSConnectionPool(host='api.genius.com', port=443): Max retries exceeded with url: /search?q=When+The+Lights+Go+Down (Caused by NameResolutionError(\"<urllib3.connection.HTTPSConnection object at 0x000001F6DB9D2DD0>: Failed to resolve 'api.genius.com' ([Errno 11001] getaddrinfo failed)\"))\n"
     ]
    },
    {
     "name": "stderr",
     "output_type": "stream",
     "text": [
      "  1%|▏         | 2514/171074 [4:07:47<120:25:42,  2.57s/it]   "
     ]
    }
   ],
   "source": [
    "from function.dictionnary import update_dictionary\n",
    "\n",
    "headers = {\"User-Agent\": \"Mozilla/5.0\"}\n",
    "\n",
    "if os.path.exists(\"checkpoint.txt\"):\n",
    "    with open(\"checkpoint.txt\", \"r\") as f:\n",
    "        start_index = int(f.read().strip())\n",
    "else:\n",
    "    start_index = 0\n",
    "\n",
    "save_every = 1000\n",
    "    \n",
    "#TODO : Dans le scrapping il récupère aussi des livres     \n",
    "for idx in tqdm.tqdm(range(start_index, len(data_artiste_titre))):\n",
    "    artist_name, song_title = data_artiste_titre[idx][1:]\n",
    "    try:\n",
    "        \n",
    "        if idx % save_every == 0:\n",
    "            with open(\"checkpoint.txt\", \"w\") as w:\n",
    "                w.write(str(idx))\n",
    "\n",
    "        # Si l'artiste est dans le dictionnaire et que le titre est dans le dictionnaire de l'artist\n",
    "        if artist_name in dictionnaire_song and song_title in dictionnaire_song[artist_name].keys():\n",
    "\n",
    "            # Si les paroles sont None tu mets à jour\n",
    "            if dictionnaire_song[artist_name][song_title][\"lyrics_primaire\"] == None or dictionnaire_song[artist_name][song_title][\"lyrics_primaire\"] == \"\":\n",
    "                dictionnaire_song = update_dictionary(song_title, artist_name, GENIUS_ACCESS_TOKEN, dictionnaire_song, headers)\n",
    "            # Sinon tu passes\n",
    "            continue\n",
    "        else:\n",
    "            dictionnaire_song = update_dictionary(song_title, artist_name, GENIUS_ACCESS_TOKEN, dictionnaire_song, headers)\n",
    "\n",
    "    except Exception as e:\n",
    "        print(e)\n",
    "        #print(f\"erreur à l'index {idx} : {e}\")\n",
    "\n",
    "        with open(\"checkpoint.txt\", \"w\") as w:\n",
    "            w.write(str(idx))\n",
    "        break\n"
   ]
  },
  {
   "cell_type": "code",
   "execution_count": null,
   "metadata": {},
   "outputs": [],
   "source": [
    "with open(PATH_JSON+\"dictionnaire_song2.json\", \"w\") as json_file:\n",
    "    json.dump(dictionnaire_song, json_file, indent=4)"
   ]
  },
  {
   "cell_type": "code",
   "execution_count": null,
   "metadata": {},
   "outputs": [],
   "source": [
    "# def scrapping_find_lyrics_on_lyricsfind(lyrics_url, headers):\n",
    "#     response = requests.get(lyrics_url, headers=headers)\n",
    "#     soup = BeautifulSoup(response.text, \"html.parser\")\n",
    "#     print(soup)\n",
    "#     1/0\n",
    "#     lyrics_div = soup.find_all(\"div\", {\"class\": \"MuiBox-root css-0\"})\n",
    "#     liste_parole = [div.get_text(separator=\"\\n\").strip() for div in lyrics_div]\n",
    "#     return liste_parole"
   ]
  },
  {
   "cell_type": "code",
   "execution_count": null,
   "metadata": {},
   "outputs": [],
   "source": []
  },
  {
   "cell_type": "code",
   "execution_count": null,
   "metadata": {},
   "outputs": [],
   "source": [
    "# import json #TODO : a supprimer\n",
    "\n",
    "# headers = {\"User-Agent\": \"Mozilla/5.0\"}\n",
    "\n",
    "# with open(PATH_JSON+\"dictionnaire_song2.json\", \"r\") as json_file:\n",
    "#     dictionnaire_song = json.load(json_file)\n",
    "\n",
    "# for artiste, dictionnaire_titre in dictionnaire_song.items():\n",
    "#     for titre, lyrics in dictionnaire_titre.items():\n",
    "#         if lyrics[\"lyrics\"] is None:\n",
    "#             print(artiste, slug(titre), lyrics[\"lyrics\"])\n",
    "#             #liste_parole = scrapping_find_lyrics_on_lyricsfind(f\"https://lyrics.lyricfind.com/lyrics/{artiste} {titre}\", headers)\n",
    "#         #print(lyrics.values())\n",
    "#         #print(\" \".join(lyrics.values()))\n",
    "#         #1/0"
   ]
  }
 ],
 "metadata": {
  "colab": {
   "provenance": []
  },
  "kernelspec": {
   "display_name": "env_proj_classification_music",
   "language": "python",
   "name": "python3"
  },
  "language_info": {
   "codemirror_mode": {
    "name": "ipython",
    "version": 3
   },
   "file_extension": ".py",
   "mimetype": "text/x-python",
   "name": "python",
   "nbconvert_exporter": "python",
   "pygments_lexer": "ipython3",
   "version": "3.11.9"
  },
  "toc": {
   "base_numbering": 1,
   "nav_menu": {},
   "number_sections": true,
   "sideBar": true,
   "skip_h1_title": false,
   "title_cell": "Table of Contents",
   "title_sidebar": "Contents",
   "toc_cell": false,
   "toc_position": {
    "height": "calc(100% - 180px)",
    "left": "10px",
    "top": "150px",
    "width": "213.167px"
   },
   "toc_section_display": true,
   "toc_window_display": true
  }
 },
 "nbformat": 4,
 "nbformat_minor": 4
}
