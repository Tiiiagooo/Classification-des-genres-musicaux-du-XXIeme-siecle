{
 "cells": [
  {
   "cell_type": "markdown",
   "metadata": {},
   "source": [
    "# Récupération jeu de données\n",
    "\n",
    "L'objectif de ce notebook"
   ]
  },
  {
   "cell_type": "markdown",
   "metadata": {
    "id": "ZWGBy1AFSqfH"
   },
   "source": [
    "Pour la documentation api Spotify\n",
    "\n",
    "\n",
    "\n",
    "*   https://spotifypy.readthedocs.io/en/latest/api.html\n",
    "*   https://github.com/spotipy-dev/spotipy/blob/master/examples/search.py\n",
    "*   https://pypi.org/project/spotipy/\n",
    "\n",
    "\n",
    "\n",
    "\n",
    "\n",
    "\n"
   ]
  },
  {
   "cell_type": "markdown",
   "metadata": {},
   "source": [
    "## Installation de l'api SPOTIFY"
   ]
  },
  {
   "cell_type": "code",
   "execution_count": 1,
   "metadata": {
    "colab": {
     "base_uri": "https://localhost:8080/"
    },
    "id": "Rs7yNuYMO2-9",
    "outputId": "8394ecdd-8a82-404b-956e-2634571b8c25",
    "scrolled": true
   },
   "outputs": [],
   "source": [
    " # Installation des packages pour Spotify\n",
    "#pip install spotipy "
   ]
  },
  {
   "cell_type": "markdown",
   "metadata": {},
   "source": [
    "## Import des librairies"
   ]
  },
  {
   "cell_type": "code",
   "execution_count": 2,
   "metadata": {},
   "outputs": [],
   "source": [
    "from function.utils import tqdm, glob, json\n",
    "\n",
    "import spotipy\n",
    "from spotipy.oauth2 import SpotifyClientCredentials"
   ]
  },
  {
   "cell_type": "markdown",
   "metadata": {},
   "source": [
    "## Récupération des tokens\n",
    "\n",
    "/!\\ Attention /!\\  \n",
    "Pour pouvoir récuperer les access tokens de spotify il est impératif d'avoir un compte free ou premium.  \n",
    "De plus avoir créer son APP.  \n",
    "Par la suite, vous obtiendrez les client_id et client_id_secret permettant l'accès à l'API et le bon fonctionnement du code."
   ]
  },
  {
   "cell_type": "code",
   "execution_count": 3,
   "metadata": {},
   "outputs": [],
   "source": [
    "from function.function import get_token\n",
    "\n",
    "PATH_TOKEN = \"../data/token/*\"\n",
    "PATH_JSON = \"../data/json_file/\"\n",
    "\n",
    "liste_txt_file = glob.glob(PATH_TOKEN)\n",
    "\n",
    "GENIUS_ACCESS_TOKEN = None\n",
    "SPOTIFY_client_id = None\n",
    "SPOTIFY_client_secret = None\n",
    "\n",
    "GENIUS_ACCESS_TOKEN, SPOTIFY_client_id, SPOTIFY_client_secret = get_token(liste_txt_file)\n"
   ]
  },
  {
   "cell_type": "code",
   "execution_count": 4,
   "metadata": {},
   "outputs": [],
   "source": [
    "from function.dictionnary import get_dictionnary\n",
    "\n",
    "dictionnaire_song = get_dictionnary(PATH_JSON, \"dictionnaire_song.json\")\n",
    "liste_artiste = get_dictionnary(PATH_JSON, \"dictionnaire_artiste.json\")"
   ]
  },
  {
   "cell_type": "code",
   "execution_count": 5,
   "metadata": {
    "colab": {
     "base_uri": "https://localhost:8080/"
    },
    "id": "UPiV70pHPAov",
    "outputId": "153b68e9-be5f-4b25-ee18-b1c250062c0f"
   },
   "outputs": [
    {
     "name": "stderr",
     "output_type": "stream",
     "text": [
      "  0%|          | 0/3486 [00:00<?, ?it/s]"
     ]
    },
    {
     "name": "stderr",
     "output_type": "stream",
     "text": [
      "100%|██████████| 3486/3486 [24:13<00:00,  2.40it/s]\n"
     ]
    }
   ],
   "source": [
    "#identifiant spotify\n",
    "sp = spotipy.Spotify(auth_manager=SpotifyClientCredentials(client_id=SPOTIFY_client_id,\n",
    "                                                           client_secret=SPOTIFY_client_secret))\n",
    "data_artiste_titre = list()\n",
    "\n",
    "for nom_artiste in tqdm.tqdm(liste_artiste):\n",
    "    if not nom_artiste in dictionnaire_song.keys():\n",
    "        results = sp.search(q=nom_artiste, limit=50) # requete de la recherche\n",
    "        if 'tracks' in results and 'items' in results['tracks']:\n",
    "            Info_titre = [(idx, nom_artiste, data['name']) for idx, data in enumerate(results['tracks']['items'])]\n",
    "        data_artiste_titre.extend(Info_titre)"
   ]
  },
  {
   "cell_type": "code",
   "execution_count": null,
   "metadata": {},
   "outputs": [
    {
     "name": "stderr",
     "output_type": "stream",
     "text": [
      "  0%|          | 0/174027 [00:00<?, ?it/s]c:\\Users\\Loup\\anaconda3\\envs\\env_proj_classification_music\\Lib\\site-packages\\urllib3\\connectionpool.py:1103: InsecureRequestWarning: Unverified HTTPS request is being made to host 'api.genius.com'. Adding certificate verification is strongly advised. See: https://urllib3.readthedocs.io/en/latest/advanced-usage.html#tls-warnings\n",
      "  warnings.warn(\n",
      "  0%|          | 0/174027 [00:02<?, ?it/s]"
     ]
    },
    {
     "name": "stdout",
     "output_type": "stream",
     "text": [
      "[Intro: Snoop Dogg]\n",
      "Is this thing on? Word\n",
      "[Chorus: Bruno Mars & \n",
      "Wiz Khalifa\n",
      "]\n",
      "So what we get drunk?\n",
      "So what we smoke weed?\n",
      "We're just having fun\n",
      "We don’t care who sees (\n",
      "Shit\n",
      ")\n",
      "Aye lemme get a lighter, please\n",
      "So what we go out?\n",
      "That's how it's supposed to be\n",
      "Cause you know I’m high as fuck and I forgot one\n",
      "Living young and wild and free\n",
      "Keep that in there\n",
      "Uh, uh-uh\n",
      "[Verse 1: Wiz Khalifa]\n",
      "So what I keep ‘em rolled up?\n",
      "Saggin' my pants, not caring what I show\n",
      "Keep it real with my niggas\n",
      "Keep it player for these hoes\n",
      "It look clean, don't it?\n",
      "Washed it the other day, watch how you lean on it\n",
      "Give me some 501 jeans on it\n",
      "Roll joints bigger than King Kong's fingers\n",
      "And smoke them hoes down 'til they stingers\n",
      "You a class clown and if I skip for the day\n",
      "I'm with your bitch smokin' grade A\n",
      "Uh, hahahahahaha\n",
      "[Chorus: Bruno Mars]\n",
      "So what we get drunk?\n",
      "So what we smoke weed?\n",
      "We're just having fun\n",
      "We don’t care who sees\n",
      "So what we go out?\n",
      "That’s how it's supposed to be\n",
      "Living young and wild and free\n",
      "[Verse 2: Snoop Dogg]\n",
      "Yeah, uh, you know what?\n",
      "It’s like I'm 17 again\n",
      "Peach fuzz on my face\n",
      "Lookin', on the case\n",
      "Tryna find a hella taste\n",
      "Oh my god, I'm on the chase, Chevy\n",
      "It’s gettin' kinda heavy, relevant, sellin' it\n",
      "Dippin' away, time keeps slippin' away\n",
      "Zip in the safe, flippin' for pay\n",
      "Tippin' like I'm drippin' in paint\n",
      "Upfront, four blunts, like, “Khalifa put the weed in a J,” Hey\n",
      "[Chorus: Bruno Mars]\n",
      "So what we get drunk?\n",
      "So what we smoke weed?\n",
      "We're just having fun\n",
      "We don't care who sees\n",
      "So what we go out?\n",
      "That's how it's supposed to be\n",
      "Living young and wild and free\n",
      "[Bridge: Wiz Khalifa]\n",
      "Yea, roll one, smoke one\n",
      "When you live like this you're supposed to party\n",
      "Roll one, smoke one, and we all just having fun\n",
      "So we just, roll one, smoke one\n",
      "When you live like this you're supposed to party\n",
      "Roll one, smoke one, and we all just having fun\n",
      "[Chorus: Bruno Mars, \n",
      "Snoop Dogg\n",
      " & \n",
      "Both\n",
      "]\n",
      "So what we get drunk? (Haha)\n",
      "So what we smoke (Yeah) \n",
      "weed\n",
      " ?\n",
      "We're just having \n",
      "fun\n",
      "We don't care who sees (\n",
      "[?] who sees\n",
      ") (Yeah)\n",
      "So what we go out?\n",
      "That's how it's \n",
      "supposed to be\n",
      " (Yup)\n",
      "Living young (young) and wild (wild) and free\n",
      "How we livin' doe?\n",
      "So what we get drunk? \n",
      "So what?\n",
      "So what we smoke \n",
      "weed?\n",
      "We're just having \n",
      "fun\n",
      "We don't care who sees\n",
      " (\n",
      "We don't care who sees\n",
      ")\n",
      "So what we go out?\n",
      "That's how it's supposed to be\n",
      "Living young and wild and free\n",
      "[Outro: Snoop Dogg]\n",
      "Yeah, haha\n",
      "High school, man\n",
      "Hey Wiz, I'ma get with you in third period tomorrow\n",
      "I'll holla at you\n"
     ]
    },
    {
     "name": "stderr",
     "output_type": "stream",
     "text": [
      "\n"
     ]
    },
    {
     "ename": "ZeroDivisionError",
     "evalue": "division by zero",
     "output_type": "error",
     "traceback": [
      "\u001b[1;31m---------------------------------------------------------------------------\u001b[0m",
      "\u001b[1;31mZeroDivisionError\u001b[0m                         Traceback (most recent call last)",
      "Cell \u001b[1;32mIn[8], line 12\u001b[0m\n\u001b[0;32m     10\u001b[0m     lyrics_of_song \u001b[38;5;241m=\u001b[39m \u001b[38;5;124m\"\u001b[39m\u001b[38;5;130;01m\\n\u001b[39;00m\u001b[38;5;124m\"\u001b[39m\u001b[38;5;241m.\u001b[39mjoin(list_lyrics)\n\u001b[0;32m     11\u001b[0m     \u001b[38;5;28mprint\u001b[39m(lyrics_of_song)\n\u001b[1;32m---> 12\u001b[0m     \u001b[38;5;241m1\u001b[39m\u001b[38;5;241m/\u001b[39m\u001b[38;5;241m0\u001b[39m\n\u001b[0;32m     13\u001b[0m     dictionnaire_song\u001b[38;5;241m.\u001b[39msetdefault(artist_name, {})\u001b[38;5;241m.\u001b[39msetdefault(song_title, {})[\u001b[38;5;124m\"\u001b[39m\u001b[38;5;124mlyrics\u001b[39m\u001b[38;5;124m\"\u001b[39m] \u001b[38;5;241m=\u001b[39m lyrics_of_song\n\u001b[0;32m     14\u001b[0m \u001b[38;5;28;01melse\u001b[39;00m:\n\u001b[0;32m     15\u001b[0m     \u001b[38;5;66;03m#   print(f\"Lyrics de {artist_name} pour '{song_title}' not found on Genius.\")\u001b[39;00m\n",
      "\u001b[1;31mZeroDivisionError\u001b[0m: division by zero"
     ]
    }
   ],
   "source": [
    "from function.function import get_lyrics_from_genius\n",
    "from function.scrapping import scrapping_find_lyrics\n",
    "\n",
    "headers = {\"User-Agent\": \"Mozilla/5.0\"}\n",
    "\n",
    "for idx, artist_name, song_title in tqdm.tqdm(data_artiste_titre):\n",
    "    lyrics_url = get_lyrics_from_genius(song_title, artist_name, GENIUS_ACCESS_TOKEN)\n",
    "    if lyrics_url:\n",
    "        list_lyrics = scrapping_find_lyrics(lyrics_url, headers)\n",
    "        lyrics_of_song = \"\\n\".join(list_lyrics)\n",
    "        dictionnaire_song.setdefault(artist_name, {}).setdefault(song_title, {})[\"lyrics\"] = lyrics_of_song\n",
    "    else:\n",
    "        #   print(f\"Lyrics de {artist_name} pour '{song_title}' not found on Genius.\")\n",
    "        dictionnaire_song.setdefault(artist_name, {}).setdefault(song_title, {})[\"lyrics\"] = None"
   ]
  },
  {
   "cell_type": "code",
   "execution_count": null,
   "metadata": {},
   "outputs": [],
   "source": [
    "with open(PATH_JSON+\"dictionnaire_song.json\", \"w\") as json_file:\n",
    "    json.dump(dictionnaire_song, json_file, indent=4)"
   ]
  }
 ],
 "metadata": {
  "colab": {
   "provenance": []
  },
  "kernelspec": {
   "display_name": "env_proj_classification_music",
   "language": "python",
   "name": "python3"
  },
  "language_info": {
   "codemirror_mode": {
    "name": "ipython",
    "version": 3
   },
   "file_extension": ".py",
   "mimetype": "text/x-python",
   "name": "python",
   "nbconvert_exporter": "python",
   "pygments_lexer": "ipython3",
   "version": "3.11.9"
  },
  "toc": {
   "base_numbering": 1,
   "nav_menu": {},
   "number_sections": true,
   "sideBar": true,
   "skip_h1_title": false,
   "title_cell": "Table of Contents",
   "title_sidebar": "Contents",
   "toc_cell": false,
   "toc_position": {
    "height": "calc(100% - 180px)",
    "left": "10px",
    "top": "150px",
    "width": "213.167px"
   },
   "toc_section_display": true,
   "toc_window_display": true
  }
 },
 "nbformat": 4,
 "nbformat_minor": 4
}
